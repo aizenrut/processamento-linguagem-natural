{
  "nbformat": 4,
  "nbformat_minor": 0,
  "metadata": {
    "colab": {
      "provenance": []
    },
    "kernelspec": {
      "name": "python3",
      "display_name": "Python 3"
    },
    "language_info": {
      "name": "python"
    }
  },
  "cells": [
    {
      "cell_type": "markdown",
      "source": [
        "# Processamento de Linguagem Natural - Web Scrapping"
      ],
      "metadata": {
        "id": "Mq4D-qG8e5Q9"
      }
    },
    {
      "cell_type": "code",
      "execution_count": 2,
      "metadata": {
        "colab": {
          "base_uri": "https://localhost:8080/"
        },
        "id": "u8tre2QDe39_",
        "outputId": "6c31842a-5ee1-45c3-b171-3edd0d23b90d"
      },
      "outputs": [
        {
          "output_type": "execute_result",
          "data": {
            "text/plain": [
              "['Uma árvore AVL é um tipo de árvore binária balanceada na qual a diferença entre as alturas de suas subárvores da esquerda e da direita não pode ser maior do que 1 para qualquer nó. Após a inserção de um nó em uma AVL, a raiz da subárvore de nível mais baixo no qual o novo nó foi inserido é marcada. Se a altura de seus filhos diferir em mais de uma unidade, é realizada uma rotação simples ou uma rotação dupla para igualar suas alturas.',\n",
              " 'Considere os seguintes requisitos para desenvolvimento de uma solução para uma rede de restaurantes ',\n",
              " 'O encapsulamento é um mecanismo da programação orientada a objetos no qual os membros de uma classe (atributos e métodos) constituem uma caixa preta. O nível de visibilidade dos membros pode ser definido pelos modificadores de visibilidade \"privado\", \"público\" e \"protegido\".',\n",
              " 'Em um computador, a memória é a unidade funcional que armazena e recupera operações e dados. Tipicamente, a memória de um computador usa uma técnica chamada acesso aleatório, que permite o acesso a qualquer uma de suas posições (células). As memórias de acesso aleatório são divididas em células de tamanho fixo, estando cada célula associada a um identificador numérico único chamado endereço. Todos os acessos à memória referem-se a um endereço específico e deve-se sempre buscar ou armazenar o conteúdo completo de uma célula, ou seja, a célula é a unidade mínima de acesso.',\n",
              " 'Os sistemas de refrigeração de piscinas de combustível em usinas nucleares evitam que a temperatura desses tanques exceda o limite de segurança. O circuito representado na figura a seguir atende aos requisitos necessários para o controle da ativação do sistema de resfriamento quando a temperatura está próxima de seu ponto crítico.',\n",
              " 'Uma relação de equivalência é uma relação binária $R$ em um conjunto $A$, tal que $R$ é reflexiva, simétrica e transitiva.',\n",
              " 'O algoritmo a seguir recebe um vetor ',\n",
              " 'Considere o diagrama Entidade-Relacionamento apresentado a seguir.',\n",
              " 'Em redes de computadores, a camada de transporte é responsável pela transferência de dados entre máquinas de origem e destino. Dois protocolos tradicionais para essa camada são o ',\n",
              " 'Um país utiliza moedas de 1, 5, 10, 25 e 50 centavos. Um programador desenvolveu o método a seguir, que implementa a estratégia gulosa para o problema do troco mínimo. Esse método recebe como parâmetro um valor inteiro, em centavos, e retorna um ',\n",
              " 'Considere o seguinte alfabeto',\n",
              " 'A figura a seguir exibe um grafo que representa um mapa rodoviário, no qual os vértices representam cidades e as arestas representam vias. Os pesos indicam o tempo atual de deslocamento entre duas cidades.',\n",
              " 'A sequência de Fibonacci é uma sequência de números inteiros que começa em 1, a que se segue 1, e na qual cada elemento subsequente é a soma dos dois elementos anteriores. A função ',\n",
              " 'A figura a seguir mostra uma imagem de ressonância magnética corrompida por ruído do tipo \"sal e pimenta\".',\n",
              " 'Em computação gráfica, existem vários modelos de iluminação diferentes que expressam e controlam os fatores que determinam a cor de uma superfície em função de um determinado conjunto de luzes. Uma vez definido um modelo de iluminação, pode-se aplicar a luz sobre as várias faces dos objetos de uma cena, processo denominado sombreamento.',\n",
              " 'Os métodos ágeis são fundamentados no desenvolvimento e entrega incremental tendo em vista atender aos requisitos dos clientes. Eles agregam um conjunto de princípios provenientes do manifesto ágil, tais como:',\n",
              " 'Em um compilador, um analisador sintático descendente preditivo pode ser implementado com o auxílio de uma tabela construída a partir de uma gramática livre de contexto. Essa tabela, chamada tabela LL(k), indica a regra de produção a ser aplicada olhando-se o k-ésimo próximo símbolo lido, chamado ',\n",
              " 'Considere a função recursiva ']"
            ]
          },
          "metadata": {},
          "execution_count": 2
        }
      ],
      "source": [
        "import requests\n",
        "from lxml import html\n",
        "\n",
        "url = 'https://www.blogcyberini.com/2018/03/questoes-resolvidas-enade-2017-ciencia-da-computacao.html'\n",
        "\n",
        "response = requests.get(url)\n",
        "tree = html.fromstring(response.content)\n",
        "\n",
        "sections = tree.xpath('//*[@id=\"post-body-2168310347614306930\"]/section')\n",
        "\n",
        "q_sections = []\n",
        "\n",
        "for s in sections:\n",
        "  for c in s.getchildren():\n",
        "    if c.tag == 'h3' and 'ccp_enade2017_q' in c.attrib.get('id'):\n",
        "      q_sections.append(s)\n",
        "\n",
        "questoes = []\n",
        "\n",
        "for qs in q_sections:\n",
        "  questoes.append(qs.getchildren()[2].text)\n",
        "  \n",
        "questoes"
      ]
    }
  ]
}